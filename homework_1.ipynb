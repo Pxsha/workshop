{
 "cells": [
  {
   "cell_type": "markdown",
   "metadata": {},
   "source": [
    "# Ex 15"
   ]
  },
  {
   "cell_type": "code",
   "execution_count": 2,
   "metadata": {},
   "outputs": [
    {
     "name": "stdout",
     "output_type": "stream",
     "text": [
      "vnmcvfghjvfhj sdgsdf  sdgsdg\n",
      "sdgsdg sdgsdf vnmcvfghjvfhj\n"
     ]
    }
   ],
   "source": [
    "def revstr(str):\n",
    "    a=str.split()\n",
    "    b=a[::-1]\n",
    "    a=\" \".join(b)\n",
    "    return a\n",
    "s=input()\n",
    "print(revstr(s))"
   ]
  },
  {
   "cell_type": "markdown",
   "metadata": {},
   "source": [
    "# Ex 16"
   ]
  },
  {
   "cell_type": "code",
   "execution_count": 1,
   "metadata": {},
   "outputs": [
    {
     "name": "stdout",
     "output_type": "stream",
     "text": [
      "Type 1,2,3 to determine the difficulty of the password or \"Exit\" in order to stop generating\n",
      "2\n",
      "<%I*#5GaobSRxET&\n",
      "Type 1,2,3 to determine the difficulty of the password or \"Exit\" in order to stop generating\n",
      "1\\\n",
      "Type 1,2,3 to determine the difficulty of the password or \"Exit\" in order to stop generating\n",
      "1\n",
      "yDd3wIc$\n",
      "Type 1,2,3 to determine the difficulty of the password or \"Exit\" in order to stop generating\n",
      "3\n",
      "rb9KE*7J5YNGMj#UXLR^xqfO\n",
      "Type 1,2,3 to determine the difficulty of the password or \"Exit\" in order to stop generating\n",
      "3\n",
      "wL*qHC%5l0pNv7YMI#c2gS3$\n",
      "Type 1,2,3 to determine the difficulty of the password or \"Exit\" in order to stop generating\n",
      "2\n",
      "n<km^&@X*wY?l8cs\n",
      "Type 1,2,3 to determine the difficulty of the password or \"Exit\" in order to stop generating\n",
      "1\n",
      "k2&OdF6R\n",
      "Type 1,2,3 to determine the difficulty of the password or \"Exit\" in order to stop generating\n",
      "exit\n"
     ]
    }
   ],
   "source": [
    "import random as rd\n",
    "str='qwertyuiopasdfghjklzxcvbnmQWERTYUIOPASDFGHJKLZXCVBNM1234567890!@#$%^&*<>?/*'\n",
    "req=\"\"\n",
    "while 1:\n",
    "    req=input('Type 1,2,3 to determine the difficulty of the password or \"Exit\" in order to stop generating\\n')\n",
    "    if req.isdigit():\n",
    "        req=int(req)\n",
    "        if req<=3:\n",
    "            print(\"\".join(rd.sample(str, req*8)))\n",
    "            continue\n",
    "        else:\n",
    "            print(\"Invalid value. Please try again\")\n",
    "            continue\n",
    "    \n",
    "    else:\n",
    "        if req==\"Exit\" or req==\"exit\" or req==\"quit\":\n",
    "            break"
   ]
  },
  {
   "cell_type": "markdown",
   "metadata": {},
   "source": [
    "# Ex8"
   ]
  },
  {
   "cell_type": "code",
   "execution_count": 3,
   "metadata": {},
   "outputs": [
    {
     "name": "stdout",
     "output_type": "stream",
     "text": [
      "1st player move is rock\n",
      "2nd player move is rock\n",
      "Draw. Another round\n",
      "1st player move is rock\n",
      "2nd player move is paper\n",
      "2nd player won\n"
     ]
    }
   ],
   "source": [
    "r=\"rock\"\n",
    "p=\"paper\"\n",
    "s=\"scissors\"\n",
    "while 1:\n",
    "    p1=input(\"1st player move is \")\n",
    "    p2=input(\"2nd player move is \")\n",
    "    if (p1==r and p2==p) or (p1==p and p2==s) or (p1==s and p2==r):\n",
    "        print(\"2nd player won\")\n",
    "        break\n",
    "    elif p1==p and p2==r or p1==s and p2==p or p1==r and p2==s:\n",
    "        print(\"1st player won\")\n",
    "        break\n",
    "    elif p1==p2:\n",
    "        print(\"Draw. Another round\")\n",
    "    else:\n",
    "        print(\"Invalid values\")"
   ]
  },
  {
   "cell_type": "markdown",
   "metadata": {},
   "source": [
    "# Ex18\n"
   ]
  },
  {
   "cell_type": "code",
   "execution_count": null,
   "metadata": {},
   "outputs": [],
   "source": [
    "from random import randrange\n",
    "print(\"Hello there! Let's play some Cows and Bulls game\")\n",
    "def isequal(a,b):\n",
    "    b1=[]\n",
    "    bulls=0\n",
    "    cows=0\n",
    "    for i in range(4):\n",
    "        b1.append(b//10**(4-i-1))\n",
    "        b=b%(10**(4-i-1))\n",
    "    \n",
    "    \n",
    "    for i in range(4):\n",
    "        if a[i]==b1[i]:\n",
    "            cows +=1\n",
    "    e=[0,0,0,0,0,0,0,0,0,0]\n",
    "    for i in range(4):\n",
    "        for j in range(4):\n",
    "            if e[b1[i]]==0:\n",
    "                if a[j]==b1[i]:\n",
    "                    bulls+=1\n",
    "        e[b1[i]]=1\n",
    "    return [cows, bulls]\n",
    "a=[]\n",
    "for i in range(4):\n",
    "    a.append(randrange(10))\n",
    "str=\"\"\n",
    "\n",
    "while str!=\"You won\":\n",
    "    b=int(input(\"Your suggestion\\n\"))\n",
    "    c=isequal(a,b)\n",
    "    if c[0]==4:\n",
    "        str=\"You won\"\n",
    "        print(str)\n",
    "    else:\n",
    "        str=\"Try again\"\n",
    "        print(\"{} cows and {} bulls\".format(c[0], c[1]))\n",
    "        print(str)\n",
    "    \n"
   ]
  },
  {
   "cell_type": "code",
   "execution_count": 6,
   "metadata": {
    "scrolled": false
   },
   "outputs": [
    {
     "name": "stdout",
     "output_type": "stream",
     "text": [
      "Object ` isequal` not found.\n"
     ]
    }
   ],
   "source": []
  },
  {
   "cell_type": "code",
   "execution_count": null,
   "metadata": {},
   "outputs": [],
   "source": []
  }
 ],
 "metadata": {
  "kernelspec": {
   "display_name": "Python 3",
   "language": "python",
   "name": "python3"
  },
  "language_info": {
   "codemirror_mode": {
    "name": "ipython",
    "version": 3
   },
   "file_extension": ".py",
   "mimetype": "text/x-python",
   "name": "python",
   "nbconvert_exporter": "python",
   "pygments_lexer": "ipython3",
   "version": "3.7.1"
  }
 },
 "nbformat": 4,
 "nbformat_minor": 2
}
