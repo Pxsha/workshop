{
 "cells": [
  {
   "cell_type": "markdown",
   "metadata": {},
   "source": [
    "# Задача 1"
   ]
  },
  {
   "cell_type": "code",
   "execution_count": 2,
   "metadata": {},
   "outputs": [],
   "source": [
    "import numpy as np\n",
    "import scipy"
   ]
  },
  {
   "cell_type": "code",
   "execution_count": 9,
   "metadata": {
    "scrolled": true
   },
   "outputs": [
    {
     "data": {
      "text/plain": [
       "array([0.88675302, 0.37030069, 0.41045045, 0.34732322, 0.27129695,\n",
       "       0.54367103, 0.5251199 , 0.5813173 , 0.42809932, 0.82623429])"
      ]
     },
     "execution_count": 9,
     "metadata": {},
     "output_type": "execute_result"
    }
   ],
   "source": [
    "a=np.random.random((10,3))\n",
    "a[np.arange(10),np.absolute(a-0.5).argmin(axis=1)]"
   ]
  },
  {
   "cell_type": "markdown",
   "metadata": {},
   "source": [
    "# Задача 2 "
   ]
  },
  {
   "cell_type": "code",
   "execution_count": 10,
   "metadata": {},
   "outputs": [
    {
     "data": {
      "text/plain": [
       "array([125.62125199,  11.83580946,  24.10828781,  23.43872107,\n",
       "        20.21362057,  15.87934243])"
      ]
     },
     "execution_count": 10,
     "metadata": {},
     "output_type": "execute_result"
    }
   ],
   "source": [
    "a=np.random.random((6,6))\n",
    "a.sum(axis=1)/a.min(axis=0)"
   ]
  },
  {
   "cell_type": "markdown",
   "metadata": {},
   "source": [
    "# Задача 3"
   ]
  },
  {
   "cell_type": "code",
   "execution_count": 11,
   "metadata": {},
   "outputs": [
    {
     "name": "stdout",
     "output_type": "stream",
     "text": [
      "5\n"
     ]
    }
   ],
   "source": [
    "a=np.array([6, 2, 0, 3, 0, 0, 5, 7, 0])\n",
    "mask=a==0\n",
    "a[1:][mask[:-1]].max()\n",
    "print(a[1:][mask[:-1]].max())"
   ]
  },
  {
   "cell_type": "markdown",
   "metadata": {},
   "source": [
    "# Задача 4"
   ]
  },
  {
   "cell_type": "code",
   "execution_count": 12,
   "metadata": {},
   "outputs": [
    {
     "name": "stdout",
     "output_type": "stream",
     "text": [
      "[2. 2. 2. 2. 1. 4. 1. 1. 2. 1.]\n"
     ]
    }
   ],
   "source": [
    "x = np.ones(10)\n",
    "i = np.array([0, 1, 2, 3, 5, 5, 5, 8])\n",
    "#g=[i==j for j in range (10)]\n",
    "#g=np.array(g)\n",
    "#a=g.sum(axis=1)\n",
    "a=np.array([i==j for j in range (10)]).sum(axis=1)+x\n",
    "print(a)"
   ]
  },
  {
   "cell_type": "markdown",
   "metadata": {},
   "source": [
    "# Задача 5"
   ]
  },
  {
   "cell_type": "code",
   "execution_count": 20,
   "metadata": {},
   "outputs": [
    {
     "data": {
      "text/plain": [
       "{0: [0],\n",
       " 1: [1, 4],\n",
       " 2: [2, 5, 8],\n",
       " 3: [3, 6, 9, 12],\n",
       " 4: [7, 10, 13],\n",
       " 5: [11, 14],\n",
       " 6: [15]}"
      ]
     },
     "execution_count": 20,
     "metadata": {},
     "output_type": "execute_result"
    }
   ],
   "source": [
    "a=np.arange(16).reshape(4,4).reshape(1,16)\n",
    "a=a[0]\n",
    "n=7\n",
    "m=4\n",
    "c=[[a[i+(n//2)*k] for k in range(i+1)] for i in range(n//2+1)]\n",
    "f=[[a[n+m*i+(n//2)*(k)] for k in range(m-2-i+1)] for i in range(m-1)]\n",
    "f=np.array(f)\n",
    "c=np.array(c)\n",
    "b=np.hstack((c, f))\n",
    "d=dict(enumerate(b))\n",
    "d"
   ]
  },
  {
   "cell_type": "markdown",
   "metadata": {},
   "source": [
    "# Задача 6"
   ]
  },
  {
   "cell_type": "code",
   "execution_count": 2,
   "metadata": {},
   "outputs": [],
   "source": [
    "import numpy as np \n",
    "from scipy.cluster.vq import kmeans\n",
    "data = np.genfromtxt('geysers.csv', delimiter=',', skip_header=1)\n"
   ]
  },
  {
   "cell_type": "code",
   "execution_count": 3,
   "metadata": {},
   "outputs": [],
   "source": [
    "data-=data.mean(axis=0)\n",
    "data/=data.std(axis=0)\n"
   ]
  },
  {
   "cell_type": "code",
   "execution_count": 11,
   "metadata": {},
   "outputs": [
    {
     "name": "stdout",
     "output_type": "stream",
     "text": [
      "(array([[-1.27243544, -1.20871494],\n",
      "       [ 0.49401042,  0.32754064],\n",
      "       [ 0.87916057,  0.95176708]]), 0.39879130260822226)\n",
      "(array([[ 0.88086224,  0.89735086],\n",
      "       [-1.27243544, -1.20871494],\n",
      "       [ 0.42228532,  0.30345458]]), 0.3993167936672239)\n"
     ]
    }
   ],
   "source": [
    "def kmeans1(data,k,it=20,thresh=1e-05): \n",
    "    n=data.shape[0]\n",
    "    m=data.shape[1]\n",
    "    centroids=data[:k]  \n",
    "    data=np.expand_dims(data,axis=1) \n",
    "    i=0\n",
    "    distortion=1e100\n",
    "    distortion1=0\n",
    "    while abs(distortion1-distortion) > thresh and i<it:\n",
    "        distortion1=distortion\n",
    "        centroids1=centroids\n",
    "        arr=data-centroids\n",
    "        labels=np.argmin((arr**2).sum(axis=2),axis=1) \n",
    "        a = np.zeros(n*m*k).reshape(n,k,m)\n",
    "        a[np.arange(n),labels]=arr[np.arange(n),labels]/np.bincount(labels)[labels].reshape(n, 1)\n",
    "        centroids=centroids1+a.sum(axis=0)\n",
    "        arr=data-centroids\n",
    "        labels=np.argmin((arr**2).sum(axis=2),axis=1)\n",
    "        a=np.zeros(n*m*k).reshape(n,k,m)\n",
    "        a[np.arange(n),labels]=arr[np.arange(n),labels]\n",
    "        distortion=np.sqrt((a**2).sum(axis=2)).sum(axis=1).mean()         \n",
    "        i=i+1\n",
    "    return centroids,distortion\n",
    "print(kmeans(data,3))\n",
    "print(kmeans1(data,3))"
   ]
  },
  {
   "cell_type": "code",
   "execution_count": null,
   "metadata": {},
   "outputs": [],
   "source": []
  }
 ],
 "metadata": {
  "kernelspec": {
   "display_name": "Python 3",
   "language": "python",
   "name": "python3"
  },
  "language_info": {
   "codemirror_mode": {
    "name": "ipython",
    "version": 3
   },
   "file_extension": ".py",
   "mimetype": "text/x-python",
   "name": "python",
   "nbconvert_exporter": "python",
   "pygments_lexer": "ipython3",
   "version": "3.7.1"
  }
 },
 "nbformat": 4,
 "nbformat_minor": 2
}
